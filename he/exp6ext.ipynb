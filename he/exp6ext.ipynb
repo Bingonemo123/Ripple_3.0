{
 "cells": [
  {
   "cell_type": "code",
   "execution_count": 71,
   "metadata": {},
   "outputs": [
    {
     "data": {
      "text/plain": [
       "(True, None)"
      ]
     },
     "execution_count": 71,
     "metadata": {},
     "output_type": "execute_result"
    }
   ],
   "source": [
    "import tqdm\n",
    "from iqoptionapi.stable_api import IQ_Option\n",
    "import json \n",
    "import statistics\n",
    "import time\n",
    "import matplotlib.pyplot as plt\n",
    "import pandas as pd\n",
    "import numpy as np\n",
    "import collections as cll\n",
    "\n",
    "connector =IQ_Option(\"ww.bingonemo@gmail.com\",\"JF*#3C5va&_NDqy\")\n",
    "connector.connect()"
   ]
  },
  {
   "cell_type": "code",
   "execution_count": 32,
   "metadata": {},
   "outputs": [],
   "source": [
    "seconds_in_month = 2_592_000 \n",
    "seconds_in_year = 31_536_000\n",
    "max_dict = 1000\n",
    "iqcomb = [(\"NZD\", \"SEK\"),(\"NZD\", \"USD\"),(\"CAD\", \"TRY\"),(\"EUR\", \"CHF\"),(\"USD\", \"THB\"),(\"EUR\", \"TRY\"),(\"GBP\", \"AUD\"),(\"AUD\", \"USD\"),(\"EUR\", \"MXN\"),(\"USD\", \"CHF\"),(\"NOK\", \"DKK\"),(\"EUR\", \"NOK\"),(\"SEK\", \"JPY\"),(\"CAD\", \"NOK\"),(\"NOK\", \"SEK\"),(\"GBP\", \"HUF\"),(\"GBP\", \"SGD\"),(\"AUD\", \"NZD\"),(\"GBP\", \"JPY\"),(\"CHF\", \"SEK\"),(\"AUD\", \"NOK\"),(\"GBP\", \"NOK\"),(\"AUD\", \"DKK\"),(\"EUR\", \"AUD\"),(\"AUD\", \"CHF\"),(\"GBP\", \"CHF\"),(\"AUD\", \"CAD\"),(\"CHF\", \"DKK\"),(\"AUD\", \"TRY\"),(\"NZD\", \"CHF\"),(\"USD\", \"SEK\"),(\"GBP\", \"NZD\"),(\"EUR\", \"DKK\"),(\"NZD\", \"DKK\"),(\"CAD\", \"SGD\"),(\"EUR\", \"GBP\"),(\"EUR\", \"CAD\"),(\"USD\", \"CZK\"),(\"AUD\", \"MXN\"),(\"EUR\", \"NZD\"),(\"GBP\", \"PLN\"),(\"NZD\", \"NOK\"),(\"AUD\", \"SGD\"),(\"GBP\", \"SEK\"),(\"NZD\", \"CAD\"),(\"NZD\", \"MXN\"),(\"NZD\", \"TRY\"),(\"CHF\", \"SGD\"),(\"USD\", \"MXN\"),(\"EUR\", \"HUF\"),(\"GBP\", \"CAD\"),(\"USD\", \"TRY\"),(\"USD\", \"JPY\"),(\"EUR\", \"USD\"),(\"AUD\", \"SEK\"),(\"CHF\", \"NOK\"),(\"USD\", \"PLN\"),(\"USD\", \"HUF\"),(\"CHF\", \"JPY\"),(\"GBP\", \"ILS\"),(\"NZD\", \"JPY\"),(\"CHF\", \"TRY\"),(\"CAD\", \"JPY\"),(\"USD\", \"RUB\"),(\"SGD\", \"JPY\"),(\"GBP\", \"USD\"),(\"CAD\", \"PLN\"),(\"DKK\", \"SGD\"),(\"NZD\", \"SGD\"),(\"AUD\", \"JPY\"),(\"NOK\", \"JPY\"),(\"PLN\", \"SEK\"),(\"USD\", \"SGD\"),(\"GBP\", \"MXN\"),(\"USD\", \"CAD\"),(\"SEK\", \"DKK\"),(\"DKK\", \"PLN\"),(\"CAD\", \"MXN\"),(\"GBP\", \"TRY\"),(\"EUR\", \"SGD\"),(\"NZD\", \"ZAR\"),(\"EUR\", \"CZK\"),(\"EUR\", \"JPY\"),(\"CAD\", \"CHF\"),(\"USD\", \"INR\"),(\"USD\", \"BRL\"),(\"USD\", \"NOK\"),(\"USD\", \"DKK\")]\n",
    "candle_size = 3600 # 3600 is one hour\n",
    "quantity = seconds_in_year / candle_size"
   ]
  },
  {
   "cell_type": "code",
   "execution_count": 33,
   "metadata": {},
   "outputs": [
    {
     "name": "stderr",
     "output_type": "stream",
     "text": [
      "100%|██████████| 9/9 [00:05<00:00,  1.64it/s]"
     ]
    },
    {
     "name": "stdout",
     "output_type": "stream",
     "text": [
      "{'id': 16662, 'from': 1594036800, 'at': 1594040400005520500, 'to': 1594040400, 'open': 1.131875, 'close': 1.13294, 'min': 1.131525, 'max': 1.132985, 'volume': 10092} 9000\n"
     ]
    },
    {
     "name": "stderr",
     "output_type": "stream",
     "text": [
      "\n"
     ]
    }
   ],
   "source": [
    "end_from_time=time.time()\n",
    "ANS=[]\n",
    "for i in tqdm.tqdm(range(int(quantity/max_dict) + 1)):\n",
    "    data=connector.get_candles(\"EURUSD\", candle_size, max_dict, end_from_time)\n",
    "    ANS =data+ANS\n",
    "    end_from_time=int(data[0][\"from\"])-1\n",
    "print(ANS[0], len(ANS))"
   ]
  },
  {
   "cell_type": "code",
   "execution_count": 34,
   "metadata": {},
   "outputs": [
    {
     "name": "stdout",
     "output_type": "stream",
     "text": [
      "Stored 'ANS' (list)\n"
     ]
    }
   ],
   "source": [
    "%store ANS"
   ]
  },
  {
   "cell_type": "code",
   "execution_count": 35,
   "metadata": {},
   "outputs": [
    {
     "data": {
      "text/plain": [
       "1.1842801405555556"
      ]
     },
     "execution_count": 35,
     "metadata": {},
     "output_type": "execute_result"
    }
   ],
   "source": [
    "ANSmean = statistics.mean([x['close'] for x in ANS])\n",
    "ANSmean"
   ]
  },
  {
   "cell_type": "code",
   "execution_count": 41,
   "metadata": {},
   "outputs": [],
   "source": [
    "period = 72 * 3600\n",
    "\n",
    "peakdiffset = []\n",
    "timediffset = []\n",
    "percset = []\n",
    "idiffset = []\n",
    "\n",
    "for i in ANS:\n",
    "    if  ANS[-1]['from'] - i['from'] < period:\n",
    "        continue\n",
    "    period_candle_set = []\n",
    "    for k in ANS:\n",
    "        if k[\"from\"] - i[\"from\"] <= period and k[\"from\"] - i[\"from\"] > 0:\n",
    "            period_candle_set.append(k)\n",
    "\n",
    "    if len(period_candle_set) == 0:\n",
    "        continue\n",
    "\n",
    "\n",
    "    peakvalue = {'close': np.NINF}\n",
    "    maxpeakvalue = {'max': np.NINF}\n",
    "\n",
    "    for x in period_candle_set:\n",
    "        if x['close'] > peakvalue['close']:\n",
    "            peakvalue = x\n",
    "        \n",
    "        if x['max'] > maxpeakvalue['max']:\n",
    "            maxpeakvalue = x\n",
    "\n",
    "    peakdiff = peakvalue['close'] - i['close']\n",
    "    maxpeakdiff = maxpeakvalue['close'] - i['max']\n",
    "    timediff = peakvalue['from'] - i['from']\n",
    "    maxtimediff = maxpeakvalue['from'] - i['from']\n",
    "\n",
    "    perc = peakdiff/i['close']\n",
    "\n",
    "    idiff = ANSmean - i['close']\n",
    "\n",
    "    peakdiffset.append(peakdiff)\n",
    "    timediffset.append(timediff)\n",
    "    percset.append(perc)\n",
    "    idiffset.append(idiff)"
   ]
  },
  {
   "cell_type": "code",
   "execution_count": 46,
   "metadata": {},
   "outputs": [
    {
     "name": "stdout",
     "output_type": "stream",
     "text": [
      "Average increment:  8238 0.004689226147123084 0.003986844688268269\n",
      "Average percent:  8238 0.003968083587794108 0.0033904976510500803\n",
      "Average time: 8238 118287.39985433358 86622.24643127421\n",
      "8238 -0.000178 0.024447022605128595\n"
     ]
    }
   ],
   "source": [
    "fset = [x for x in peakdiffset if x >= 0]\n",
    "fpr = [x for x in percset if x >= 0]\n",
    "ftm = [y for x, y in zip(peakdiffset, timediffset) if x>= 0 ]\n",
    "fidf = [y for x, y in zip(peakdiffset, idiffset) if x>= 0 ] # mean deviation\n",
    "print('Average increment: ',len(fset), statistics.mean(fset), statistics.stdev(fset))\n",
    "print('Average percent: ', len(fpr), statistics.mean(fpr), statistics.stdev(fpr))\n",
    "print('Average time:', len(ftm), statistics.mean(ftm), statistics.stdev(ftm))\n",
    "print(len(fidf), format(statistics.mean(fidf), 'f'), statistics.stdev(fidf))"
   ]
  },
  {
   "cell_type": "code",
   "execution_count": 87,
   "metadata": {},
   "outputs": [
    {
     "data": {
      "text/plain": [
       "<matplotlib.collections.PathCollection at 0x1a4ba2fe370>"
      ]
     },
     "execution_count": 87,
     "metadata": {},
     "output_type": "execute_result"
    },
    {
     "data": {
      "image/png": "[encoded data removed]",
      "text/plain": [
       "<Figure size 667.323x667.323 with 1 Axes>"
      ]
     },
     "metadata": {
      "needs_background": "light"
     },
     "output_type": "display_data"
    }
   ],
   "source": [
    "cm = 1/2.54  # centimeters in inches\n",
    "\n",
    "fig, ax = plt.subplots(figsize=(15*cm, 15*cm), dpi=113)\n",
    "div = 100\n",
    "        \n",
    "c = cll.Counter(pd.cut(peakdiffset, div))\n",
    "ax.scatter([x.mid for x in c.keys()], c.values(), marker= ',' , s=0.40599)\n",
    "\n"
   ]
  }
 ],
 "metadata": {
  "interpreter": {
   "hash": "c569cd2e17f62341e0f08a54f9a867c3c0d3a6f67454072d7de41a8b5dff8343"
  },
  "kernelspec": {
   "display_name": "Python 3.9.7 64-bit",
   "language": "python",
   "name": "python3"
  },
  "language_info": {
   "codemirror_mode": {
    "name": "ipython",
    "version": 3
   },
   "file_extension": ".py",
   "mimetype": "text/x-python",
   "name": "python",
   "nbconvert_exporter": "python",
   "pygments_lexer": "ipython3",
   "version": "3.9.7"
  },
  "orig_nbformat": 4
 },
 "nbformat": 4,
 "nbformat_minor": 2
}
